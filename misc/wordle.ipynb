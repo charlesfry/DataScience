{
 "cells": [
  {
   "cell_type": "code",
   "execution_count": 19,
   "metadata": {
    "collapsed": true
   },
   "outputs": [],
   "source": [
    "import numpy as np\n",
    "import pandas as pd\n",
    "import tkinter as tk\n",
    "import math\n",
    "import matplotlib.pyplot as plt\n",
    "import random\n",
    "import os\n",
    "# import tensorflow as tf\n",
    "# import torch"
   ]
  },
  {
   "cell_type": "code",
   "execution_count": 20,
   "outputs": [],
   "source": [
    "def seed_everything(seed):\n",
    "    os.environ['PYTHONHASHSEED'] = str(seed)\n",
    "    random.seed(seed)\n",
    "    np.random.seed(seed)\n",
    "    # tf.random.set_seed(seed)\n",
    "    # torch.random.seed(seed)"
   ],
   "metadata": {
    "collapsed": false,
    "pycharm": {
     "name": "#%%\n"
    }
   }
  },
  {
   "cell_type": "code",
   "execution_count": 13,
   "outputs": [],
   "source": [
    "SEED = 69\n",
    "# seed_everything(SEED) # might not want to seed things if you want to play the game"
   ],
   "metadata": {
    "collapsed": false,
    "pycharm": {
     "name": "#%%\n"
    }
   }
  },
  {
   "cell_type": "code",
   "execution_count": 21,
   "outputs": [
    {
     "data": {
      "text/plain": "array(['paper', 'older', 'pecan', 'taper', 'point'], dtype='<U5')"
     },
     "execution_count": 21,
     "metadata": {},
     "output_type": "execute_result"
    }
   ],
   "source": [
    "answers_np = np.loadtxt('../input/wordle_answers.txt', delimiter='\\n', dtype=str)\n",
    "guess_space_np = np.loadtxt('../input/wordle_guesses_without_answers.txt', delimiter='\\n', dtype=str)\n",
    "words_np = np.append(answers_np.copy(), guess_space_np.copy())\n",
    "np.random.shuffle(words_np)\n",
    "words_np[:5]"
   ],
   "metadata": {
    "collapsed": false,
    "pycharm": {
     "name": "#%%\n"
    }
   }
  },
  {
   "cell_type": "code",
   "execution_count": 22,
   "outputs": [],
   "source": [],
   "metadata": {
    "collapsed": false,
    "pycharm": {
     "name": "#%%\n"
    }
   }
  },
  {
   "cell_type": "code",
   "execution_count": 26,
   "outputs": [],
   "source": [
    "def restart():\n",
    "    answer:str = np.random.choice(answers_np, 1, replace=True)[0]\n",
    "    length = len(answer)\n",
    "    num_guesses = 0\n",
    "    guess = ''\n",
    "    return answer, length, num_guesses, guess"
   ],
   "metadata": {
    "collapsed": false,
    "pycharm": {
     "name": "#%%\n"
    }
   }
  },
  {
   "cell_type": "code",
   "execution_count": 27,
   "outputs": [
    {
     "data": {
      "text/plain": "'drier'"
     },
     "execution_count": 27,
     "metadata": {},
     "output_type": "execute_result"
    }
   ],
   "source": [
    "answer, length, num_guesses, guess = restart()\n",
    "answer"
   ],
   "metadata": {
    "collapsed": false,
    "pycharm": {
     "name": "#%%\n"
    }
   }
  },
  {
   "cell_type": "code",
   "execution_count": 120,
   "outputs": [],
   "source": [
    "def word_filter(guess:str, answer:str):\n",
    "    g_arr = np.array(list(guess), dtype=str)\n",
    "    a_arr = np.array(list(answer), dtype=str)\n",
    "    r = np.zeros(len(answer), dtype=int)\n",
    "    # for i, (g, a) in enumerate(zip(g_arr, a_arr)):\n",
    "    r = np.where([g == a for g, a in zip(g_arr, a_arr)], 0, 1)\n",
    "    fun = lambda x: x[0] != x[1]\n",
    "    a_arr_remaining, g_arr_remaining = list(filter(fun, zip(a_arr, g_arr)))\n",
    "    a_arr_remaining = list(a_arr_remaining)\n",
    "    print(a_arr_remaining)\n",
    "    for i, g in enumerate(g_arr):\n",
    "        if r[i] == 0: continue\n",
    "        if g in a_arr_remaining:\n",
    "            r[i] = -1\n",
    "            a_arr_remaining.remove(g)\n",
    "    return r"
   ],
   "metadata": {
    "collapsed": false,
    "pycharm": {
     "name": "#%%\n"
    }
   }
  },
  {
   "cell_type": "code",
   "execution_count": 125,
   "outputs": [
    {
     "name": "stdout",
     "output_type": "stream",
     "text": [
      "['a', 'p']\n"
     ]
    },
    {
     "data": {
      "text/plain": "array([ 0,  0,  0,  0, -1, -1])"
     },
     "execution_count": 125,
     "metadata": {},
     "output_type": "execute_result"
    }
   ],
   "source": [
    "word_filter('buttpa', 'buttaz')"
   ],
   "metadata": {
    "collapsed": false,
    "pycharm": {
     "name": "#%%\n"
    }
   }
  },
  {
   "cell_type": "code",
   "execution_count": 55,
   "outputs": [],
   "source": [
    "poop = lambda x,y: x != y"
   ],
   "metadata": {
    "collapsed": false,
    "pycharm": {
     "name": "#%%\n"
    }
   }
  },
  {
   "cell_type": "code",
   "execution_count": 60,
   "outputs": [
    {
     "data": {
      "text/plain": "False"
     },
     "execution_count": 60,
     "metadata": {},
     "output_type": "execute_result"
    }
   ],
   "source": [
    "app = np.array([1,2,3,4])\n",
    "bpp = np.array([1,2,3,3])\n",
    "\n",
    "poop(app[0], bpp[0])"
   ],
   "metadata": {
    "collapsed": false,
    "pycharm": {
     "name": "#%%\n"
    }
   }
  },
  {
   "cell_type": "code",
   "execution_count": 100,
   "outputs": [],
   "source": [
    "guess = 'buttba'\n",
    "answer = 'buttab'\n",
    "g_arr = np.array(list(guess))\n",
    "a_arr = np.array(list(answer))\n",
    "r = np.zeros(len(answer))\n",
    "# for i, (g, a) in enumerate(zip(g_arr, a_arr)):\n",
    "r = np.where([g == a for g, a in zip(g_arr, a_arr)], 0, 1).astype(int)\n",
    "a_arr_remaining = a_arr[r]"
   ],
   "metadata": {
    "collapsed": false,
    "pycharm": {
     "name": "#%%\n"
    }
   }
  },
  {
   "cell_type": "code",
   "execution_count": 101,
   "outputs": [
    {
     "data": {
      "text/plain": "array(['b', 'b', 'b', 'b', 'u', 'u'], dtype='<U1')"
     },
     "execution_count": 101,
     "metadata": {},
     "output_type": "execute_result"
    }
   ],
   "source": [
    "a_arr_remaining"
   ],
   "metadata": {
    "collapsed": false,
    "pycharm": {
     "name": "#%%\n"
    }
   }
  },
  {
   "cell_type": "code",
   "execution_count": 85,
   "outputs": [
    {
     "data": {
      "text/plain": "numpy.ndarray"
     },
     "execution_count": 85,
     "metadata": {},
     "output_type": "execute_result"
    }
   ],
   "source": [
    "type(r)"
   ],
   "metadata": {
    "collapsed": false,
    "pycharm": {
     "name": "#%%\n"
    }
   }
  },
  {
   "cell_type": "code",
   "execution_count": null,
   "outputs": [],
   "source": [],
   "metadata": {
    "collapsed": false,
    "pycharm": {
     "name": "#%%\n"
    }
   }
  }
 ],
 "metadata": {
  "kernelspec": {
   "display_name": "Python 3",
   "language": "python",
   "name": "python3"
  },
  "language_info": {
   "codemirror_mode": {
    "name": "ipython",
    "version": 2
   },
   "file_extension": ".py",
   "mimetype": "text/x-python",
   "name": "python",
   "nbconvert_exporter": "python",
   "pygments_lexer": "ipython2",
   "version": "2.7.6"
  }
 },
 "nbformat": 4,
 "nbformat_minor": 0
}