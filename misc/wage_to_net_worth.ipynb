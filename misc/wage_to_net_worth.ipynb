{
 "cells": [
  {
   "cell_type": "code",
   "execution_count": 1,
   "outputs": [],
   "source": [
    "from datetime import datetime"
   ],
   "metadata": {
    "collapsed": false,
    "pycharm": {
     "name": "#%%\n"
    }
   }
  },
  {
   "cell_type": "code",
   "execution_count": 78,
   "outputs": [],
   "source": [
    "def time_to_earn(wage, net_worth):\n",
    "    years = int(net_worth / (365.25 * 24 * wage))\n",
    "    if years > 0: net_worth -= years * 365.25 * 24 * wage\n",
    "    print(f'years: {years:,}')\n",
    "    days = int(net_worth / (24 * wage))\n",
    "    if days > 0: net_worth -= days * 24 * wage\n",
    "    print('days:', days)\n",
    "    hours = int(net_worth / wage)\n",
    "    net_worth -= hours * wage\n",
    "    print('hours:', hours)\n",
    "    mins = int(net_worth * 6)\n",
    "\n",
    "    counts = []\n",
    "    if years > 0:\n",
    "        counts.append(f'{years:,} years')\n",
    "    if days > 0:\n",
    "        counts.append(f'{days} days')\n",
    "    if hours > 0:\n",
    "        counts.append(f'{hours} hours')\n",
    "    if mins > 0:\n",
    "        counts.append(f'{mins} minutes')\n",
    "    return ', '.join(counts)"
   ],
   "metadata": {
    "collapsed": false,
    "pycharm": {
     "name": "#%%\n"
    }
   }
  },
  {
   "cell_type": "code",
   "execution_count": 83,
   "outputs": [
    {
     "name": "stdout",
     "output_type": "stream",
     "text": [
      "Leddit years: 6,064,324\n",
      "years: 3,156,395\n",
      "days: 289\n",
      "hours: 11\n"
     ]
    },
    {
     "data": {
      "text/plain": "'3,156,395 years, 289 days, 11 hours, 10 minutes'"
     },
     "execution_count": 83,
     "metadata": {},
     "output_type": "execute_result"
    }
   ],
   "source": [
    "total_years = 11735380 - 5671056\n",
    "bezos_net_worth = 200600000000\n",
    "net_worth = 10 * 24 * 366 # = 87600\n",
    "minimum_wage = 7.25\n",
    "print(f'Leddit years: {total_years:,}')\n",
    "time_to_earn(minimum_wage, bezos_net_worth)"
   ],
   "metadata": {
    "collapsed": false,
    "pycharm": {
     "name": "#%%\n"
    }
   }
  },
  {
   "cell_type": "code",
   "execution_count": 74,
   "outputs": [
    {
     "data": {
      "text/plain": "True"
     },
     "execution_count": 74,
     "metadata": {},
     "output_type": "execute_result"
    }
   ],
   "source": [
    "10 * 24 * 365 == net_worth"
   ],
   "metadata": {
    "collapsed": false,
    "pycharm": {
     "name": "#%%\n"
    }
   }
  },
  {
   "cell_type": "code",
   "execution_count": 45,
   "outputs": [
    {
     "data": {
      "text/plain": "75805384"
     },
     "execution_count": 45,
     "metadata": {},
     "output_type": "execute_result"
    }
   ],
   "source": [
    "int(200600000000 / (365 * 7.25))"
   ],
   "metadata": {
    "collapsed": false,
    "pycharm": {
     "name": "#%%\n"
    }
   }
  },
  {
   "cell_type": "code",
   "execution_count": null,
   "outputs": [],
   "source": [],
   "metadata": {
    "collapsed": false,
    "pycharm": {
     "name": "#%%\n"
    }
   }
  }
 ],
 "metadata": {
  "kernelspec": {
   "display_name": "Python 3",
   "language": "python",
   "name": "python3"
  },
  "language_info": {
   "codemirror_mode": {
    "name": "ipython",
    "version": 2
   },
   "file_extension": ".py",
   "mimetype": "text/x-python",
   "name": "python",
   "nbconvert_exporter": "python",
   "pygments_lexer": "ipython2",
   "version": "2.7.6"
  }
 },
 "nbformat": 4,
 "nbformat_minor": 0
}