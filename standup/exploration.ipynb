{
 "cells": [
  {
   "cell_type": "code",
   "execution_count": 59,
   "metadata": {},
   "outputs": [],
   "source": [
    "import numpy as np\n",
    "import pandas as pd\n",
    "import matplotlib.pyplot as plt\n",
    "import re\n",
    "from functools import reduce\n",
    "from collections import Counter"
   ]
  },
  {
   "cell_type": "code",
   "execution_count": 174,
   "metadata": {},
   "outputs": [
    {
     "data": {
      "text/plain": [
       "4.125"
      ]
     },
     "execution_count": 174,
     "metadata": {},
     "output_type": "execute_result"
    }
   ],
   "source": [
    "total = (df.applymap(lambda x: True if x != '' else False) * np.arange(1, df.shape[1] +1)).max(axis=1)\n",
    "local_np = (df.applymap(lambda x: len(x) > 0 and not x.endswith('*')) * np.arange(1, df.shape[1] + 1)).to_numpy().flatten()\n",
    "local_avg = local_np[local_np > 0].mean()\n",
    "remote_np = (df.applymap(lambda x: len(x) > 0 and not x.endswith('*')) * np.arange(1, df.shape[1] + 1)).to_numpy().flatten()\n",
    "remote_avg = remote_np[remote_np > 0].mean()\n",
    "\n",
    "local_avg, remote_avg"
   ]
  },
  {
   "cell_type": "code",
   "execution_count": 171,
   "metadata": {},
   "outputs": [
    {
     "data": {
      "text/html": [
       "<div>\n",
       "<style scoped>\n",
       "    .dataframe tbody tr th:only-of-type {\n",
       "        vertical-align: middle;\n",
       "    }\n",
       "\n",
       "    .dataframe tbody tr th {\n",
       "        vertical-align: top;\n",
       "    }\n",
       "\n",
       "    .dataframe thead th {\n",
       "        text-align: right;\n",
       "    }\n",
       "</style>\n",
       "<table border=\"1\" class=\"dataframe\">\n",
       "  <thead>\n",
       "    <tr style=\"text-align: right;\">\n",
       "      <th></th>\n",
       "      <th>0</th>\n",
       "      <th>1</th>\n",
       "      <th>2</th>\n",
       "      <th>3</th>\n",
       "      <th>4</th>\n",
       "      <th>5</th>\n",
       "      <th>6</th>\n",
       "      <th>7</th>\n",
       "      <th>8</th>\n",
       "    </tr>\n",
       "  </thead>\n",
       "  <tbody>\n",
       "    <tr>\n",
       "      <th>0</th>\n",
       "      <td>Alex</td>\n",
       "      <td>Jake</td>\n",
       "      <td>Charles</td>\n",
       "      <td>Scott</td>\n",
       "      <td>Diego*</td>\n",
       "      <td>Yukie</td>\n",
       "      <td>David</td>\n",
       "      <td></td>\n",
       "      <td></td>\n",
       "    </tr>\n",
       "    <tr>\n",
       "      <th>1</th>\n",
       "      <td>Alex</td>\n",
       "      <td>Jake</td>\n",
       "      <td>Scott</td>\n",
       "      <td>David</td>\n",
       "      <td>Leila</td>\n",
       "      <td>Yukie</td>\n",
       "      <td>Charles*</td>\n",
       "      <td>Annabelle*</td>\n",
       "      <td>Diego*</td>\n",
       "    </tr>\n",
       "    <tr>\n",
       "      <th>2</th>\n",
       "      <td>Annabelle</td>\n",
       "      <td>Charles</td>\n",
       "      <td>Jake</td>\n",
       "      <td>David</td>\n",
       "      <td>Leila</td>\n",
       "      <td>Yukie</td>\n",
       "      <td>Scott</td>\n",
       "      <td>Diego*</td>\n",
       "      <td>Alex</td>\n",
       "    </tr>\n",
       "    <tr>\n",
       "      <th>3</th>\n",
       "      <td>Alex</td>\n",
       "      <td>David</td>\n",
       "      <td>Leila</td>\n",
       "      <td>Diego*</td>\n",
       "      <td>Jake</td>\n",
       "      <td>Charles</td>\n",
       "      <td>Scott</td>\n",
       "      <td>Annabelle</td>\n",
       "      <td></td>\n",
       "    </tr>\n",
       "    <tr>\n",
       "      <th>4</th>\n",
       "      <td>Alex</td>\n",
       "      <td>Leila</td>\n",
       "      <td>Scott*</td>\n",
       "      <td>Charles*</td>\n",
       "      <td>Yukie*</td>\n",
       "      <td>David</td>\n",
       "      <td>Annabelle</td>\n",
       "      <td>Jake</td>\n",
       "      <td></td>\n",
       "    </tr>\n",
       "    <tr>\n",
       "      <th>5</th>\n",
       "      <td>Alex</td>\n",
       "      <td>Jake</td>\n",
       "      <td>Yukie</td>\n",
       "      <td>Charles</td>\n",
       "      <td>Scott</td>\n",
       "      <td>Annabelle</td>\n",
       "      <td>David</td>\n",
       "      <td>Diego*</td>\n",
       "      <td>Leila*</td>\n",
       "    </tr>\n",
       "    <tr>\n",
       "      <th>6</th>\n",
       "      <td>Alex</td>\n",
       "      <td>Scott</td>\n",
       "      <td>Annabelle</td>\n",
       "      <td>Yukie</td>\n",
       "      <td>David</td>\n",
       "      <td>Charles</td>\n",
       "      <td>Jake*</td>\n",
       "      <td></td>\n",
       "      <td></td>\n",
       "    </tr>\n",
       "    <tr>\n",
       "      <th>7</th>\n",
       "      <td>Alex</td>\n",
       "      <td>Yukie</td>\n",
       "      <td>Leila*</td>\n",
       "      <td>Diego</td>\n",
       "      <td>Charles*</td>\n",
       "      <td>Annabelle</td>\n",
       "      <td>Scott</td>\n",
       "      <td></td>\n",
       "      <td></td>\n",
       "    </tr>\n",
       "    <tr>\n",
       "      <th>8</th>\n",
       "      <td>Alex</td>\n",
       "      <td>Jake</td>\n",
       "      <td>Annabelle</td>\n",
       "      <td>Yukie</td>\n",
       "      <td>Charles</td>\n",
       "      <td>Scott</td>\n",
       "      <td>Diego*</td>\n",
       "      <td>David*</td>\n",
       "      <td>Leila</td>\n",
       "    </tr>\n",
       "    <tr>\n",
       "      <th>9</th>\n",
       "      <td>Annabelle</td>\n",
       "      <td>Scott</td>\n",
       "      <td>David</td>\n",
       "      <td>Leila</td>\n",
       "      <td>Yukie</td>\n",
       "      <td>Jake</td>\n",
       "      <td>Charles</td>\n",
       "      <td>Diego*</td>\n",
       "      <td></td>\n",
       "    </tr>\n",
       "    <tr>\n",
       "      <th>10</th>\n",
       "      <td>Alex</td>\n",
       "      <td>Annabelle*</td>\n",
       "      <td>Diego*</td>\n",
       "      <td>Leila*</td>\n",
       "      <td>Scott*</td>\n",
       "      <td>Jake</td>\n",
       "      <td>Yukie*</td>\n",
       "      <td>Charles</td>\n",
       "      <td>David</td>\n",
       "    </tr>\n",
       "    <tr>\n",
       "      <th>11</th>\n",
       "      <td>Charles*</td>\n",
       "      <td>Annabelle*</td>\n",
       "      <td>Diego*</td>\n",
       "      <td>David</td>\n",
       "      <td>Leila</td>\n",
       "      <td>Jake</td>\n",
       "      <td>Yukie</td>\n",
       "      <td></td>\n",
       "      <td></td>\n",
       "    </tr>\n",
       "    <tr>\n",
       "      <th>12</th>\n",
       "      <td>Alex</td>\n",
       "      <td>Scott</td>\n",
       "      <td>Diego*</td>\n",
       "      <td>Jake*</td>\n",
       "      <td>Annabelle*</td>\n",
       "      <td>Charles</td>\n",
       "      <td>Yukie</td>\n",
       "      <td></td>\n",
       "      <td></td>\n",
       "    </tr>\n",
       "    <tr>\n",
       "      <th>13</th>\n",
       "      <td>Charles</td>\n",
       "      <td>Yukie</td>\n",
       "      <td>David</td>\n",
       "      <td>Leila</td>\n",
       "      <td>Jake</td>\n",
       "      <td>Diego*</td>\n",
       "      <td>Scott*</td>\n",
       "      <td></td>\n",
       "      <td></td>\n",
       "    </tr>\n",
       "    <tr>\n",
       "      <th>14</th>\n",
       "      <td>Charles</td>\n",
       "      <td>David</td>\n",
       "      <td>Leila</td>\n",
       "      <td>Yukie</td>\n",
       "      <td>Annabelle*</td>\n",
       "      <td>Diego*</td>\n",
       "      <td>Scott*</td>\n",
       "      <td>Jake</td>\n",
       "      <td></td>\n",
       "    </tr>\n",
       "    <tr>\n",
       "      <th>15</th>\n",
       "      <td>David</td>\n",
       "      <td>Charles</td>\n",
       "      <td>Annabelle</td>\n",
       "      <td>Jake</td>\n",
       "      <td>Leila</td>\n",
       "      <td>Diego*</td>\n",
       "      <td>Yukie</td>\n",
       "      <td></td>\n",
       "      <td></td>\n",
       "    </tr>\n",
       "    <tr>\n",
       "      <th>16</th>\n",
       "      <td>David</td>\n",
       "      <td>Charles</td>\n",
       "      <td>Annabelle</td>\n",
       "      <td>Jake</td>\n",
       "      <td>Leila</td>\n",
       "      <td>Diego*</td>\n",
       "      <td>Yukie</td>\n",
       "      <td></td>\n",
       "      <td></td>\n",
       "    </tr>\n",
       "    <tr>\n",
       "      <th>17</th>\n",
       "      <td>Alex</td>\n",
       "      <td>Annabelle*</td>\n",
       "      <td>Leila</td>\n",
       "      <td>Jake</td>\n",
       "      <td>Charles</td>\n",
       "      <td>Diego</td>\n",
       "      <td>Yukie</td>\n",
       "      <td></td>\n",
       "      <td></td>\n",
       "    </tr>\n",
       "  </tbody>\n",
       "</table>\n",
       "</div>"
      ],
      "text/plain": [
       "            0           1          2         3           4          5  \\\n",
       "0        Alex        Jake    Charles     Scott      Diego*      Yukie   \n",
       "1        Alex        Jake      Scott     David       Leila      Yukie   \n",
       "2   Annabelle     Charles       Jake     David       Leila      Yukie   \n",
       "3        Alex       David      Leila    Diego*        Jake    Charles   \n",
       "4        Alex       Leila     Scott*  Charles*      Yukie*      David   \n",
       "5        Alex        Jake      Yukie   Charles       Scott  Annabelle   \n",
       "6        Alex       Scott  Annabelle     Yukie       David    Charles   \n",
       "7        Alex       Yukie     Leila*     Diego    Charles*  Annabelle   \n",
       "8        Alex        Jake  Annabelle     Yukie     Charles      Scott   \n",
       "9   Annabelle       Scott      David     Leila       Yukie       Jake   \n",
       "10       Alex  Annabelle*     Diego*    Leila*      Scott*       Jake   \n",
       "11   Charles*  Annabelle*     Diego*     David       Leila       Jake   \n",
       "12       Alex       Scott     Diego*     Jake*  Annabelle*    Charles   \n",
       "13    Charles       Yukie      David     Leila        Jake     Diego*   \n",
       "14    Charles       David      Leila     Yukie  Annabelle*     Diego*   \n",
       "15      David     Charles  Annabelle      Jake       Leila     Diego*   \n",
       "16      David     Charles  Annabelle      Jake       Leila     Diego*   \n",
       "17       Alex  Annabelle*      Leila      Jake     Charles      Diego   \n",
       "\n",
       "            6           7       8  \n",
       "0       David                      \n",
       "1    Charles*  Annabelle*  Diego*  \n",
       "2       Scott      Diego*    Alex  \n",
       "3       Scott   Annabelle          \n",
       "4   Annabelle        Jake          \n",
       "5       David      Diego*  Leila*  \n",
       "6       Jake*                      \n",
       "7       Scott                      \n",
       "8      Diego*      David*   Leila  \n",
       "9     Charles      Diego*          \n",
       "10     Yukie*     Charles   David  \n",
       "11      Yukie                      \n",
       "12      Yukie                      \n",
       "13     Scott*                      \n",
       "14     Scott*        Jake          \n",
       "15      Yukie                      \n",
       "16      Yukie                      \n",
       "17      Yukie                      "
      ]
     },
     "execution_count": 171,
     "metadata": {},
     "output_type": "execute_result"
    }
   ],
   "source": [
    "# ETL\n",
    "FILEPATH = './data.csv'\n",
    "def etl(filepath, strip_stars=False):\n",
    "    df = pd.read_csv(filepath).fillna('')\n",
    "    if strip_stars:\n",
    "        return df.applymap(lambda x: x[:-1] if x.endswith('*') else x)\n",
    "    return df\n",
    "df = etl(FILEPATH)\n",
    "df.head(20)"
   ]
  },
  {
   "cell_type": "code",
   "execution_count": 31,
   "metadata": {},
   "outputs": [
    {
     "data": {
      "text/plain": [
       "True"
      ]
     },
     "execution_count": 31,
     "metadata": {},
     "output_type": "execute_result"
    }
   ],
   "source": [
    "names_dict = {\n",
    "    'al':'Alex',\n",
    "    'ja':'Jake',\n",
    "    'ch':'Charles',\n",
    "    'sc':'Scott',\n",
    "    'di':'Diego',\n",
    "    'yu':'Yukie',\n",
    "    'da':'David',\n",
    "    'li':'Leila',\n",
    "    'an':'Annabelle'\n",
    "}\n"
   ]
  },
  {
   "cell_type": "markdown",
   "metadata": {},
   "source": [
    "# CHECK TO SEE IF BEING REMOTE CHANGED LIKELIHOOD OF BEING PICKED EARLY"
   ]
  },
  {
   "cell_type": "code",
   "execution_count": 161,
   "metadata": {},
   "outputs": [
    {
     "name": "stdout",
     "output_type": "stream",
     "text": [
      "Average number of people in standup: 7.8\n",
      "If you are local, your average turn number is: 4.2\n",
      "If you are remote, your average turn number is: 5.6\n",
      "If you are remote, you will be picked 1.4 people later than if you work in the office.\n",
      "AKA if you are remote, you will be picked 18.4% later than if you work in the office.\n"
     ]
    }
   ],
   "source": [
    "total = (df.applymap(lambda x: True if x != '' else False) * np.arange(1, df.shape[1] +1)).max(axis=1)\n",
    "local_df = (df.applymap(lambda x: x != '' and '*' not in x))\n",
    "local_avg = ((local_df * np.arange(1, df.shape[1] +1)).sum(axis=1) / local_df.sum(axis=1)).mean()\n",
    "remote_df = (df.applymap(lambda x: '*' in x))\n",
    "remote_avg = ((remote_df * np.arange(1, df.shape[1] +1)).sum(axis=1) / remote_df.sum(axis=1)).mean()\n",
    "office_avg = total.mean()\n",
    "print('Average number of people in standup: {:.1f}'.format(office_avg))\n",
    "print('If you are local, your average turn number is: {:.1f}'.format(local_avg))\n",
    "print('If you are remote, your average turn number is: {:.1f}'.format(remote_avg))\n",
    "print('If you are remote, you will be picked {:.1f} people later than if you work in the office.'.format(remote_avg - local_avg))\n",
    "print('AKA if you are remote, you will be picked {:.1f}% later than if you work in the office.'.format(100 * (remote_avg - local_avg) / office_avg))"
   ]
  },
  {
   "cell_type": "code",
   "execution_count": 151,
   "metadata": {},
   "outputs": [
    {
     "data": {
      "text/plain": [
       "0     6\n",
       "1     8\n",
       "2     8\n",
       "3     7\n",
       "4     7\n",
       "5     8\n",
       "6     6\n",
       "7     6\n",
       "8     8\n",
       "9     7\n",
       "10    8\n",
       "11    6\n",
       "12    6\n",
       "13    6\n",
       "14    7\n",
       "15    6\n",
       "16    6\n",
       "17    6\n",
       "dtype: int32"
      ]
     },
     "execution_count": 151,
     "metadata": {},
     "output_type": "execute_result"
    }
   ],
   "source": []
  },
  {
   "cell_type": "code",
   "execution_count": 110,
   "metadata": {},
   "outputs": [
    {
     "data": {
      "text/plain": [
       "{'Alex',\n",
       " 'Annabelle',\n",
       " 'Charles',\n",
       " 'David',\n",
       " 'Diego',\n",
       " 'Jake',\n",
       " 'Leila',\n",
       " 'Scott',\n",
       " 'Yukie'}"
      ]
     },
     "execution_count": 110,
     "metadata": {},
     "output_type": "execute_result"
    }
   ],
   "source": [
    "clean_df = etl(FILEPATH, strip_stars=True)\n",
    "names = set(clean_df.to_numpy().flatten())\n",
    "names.remove('')\n",
    "names"
   ]
  },
  {
   "cell_type": "code",
   "execution_count": 111,
   "metadata": {},
   "outputs": [],
   "source": [
    "def get_vals(name:str, df):\n",
    "    data = (clean_df == name ) * np.arange(df.shape[1])\n",
    "    avg = data.sum(axis=1)\n",
    "    avg = avg.where(lambda x: x > 0)\n",
    "    avg.dropna(inplace=True)\n",
    "    mean = avg.mean()\n",
    "    mean = '{:.2f}'.format(round(mean, 2))\n",
    "    return mean"
   ]
  },
  {
   "cell_type": "code",
   "execution_count": 112,
   "metadata": {},
   "outputs": [
    {
     "data": {
      "text/plain": [
       "{'Annabelle': '3.50',\n",
       " 'Jake': '3.59',\n",
       " 'Leila': '3.60',\n",
       " 'Scott': '3.79',\n",
       " 'Charles': '3.80',\n",
       " 'David': '3.92',\n",
       " 'Yukie': '4.24',\n",
       " 'Diego': '4.75',\n",
       " 'Alex': '8.00'}"
      ]
     },
     "execution_count": 112,
     "metadata": {},
     "output_type": "execute_result"
    }
   ],
   "source": [
    "popular = {k:get_vals(k, clean_df) for k in names}\n",
    "dict(sorted(popular.items(), key=lambda item: item[1]))"
   ]
  },
  {
   "cell_type": "markdown",
   "metadata": {},
   "source": [
    "## Number of times people were at standup"
   ]
  },
  {
   "cell_type": "code",
   "execution_count": 144,
   "metadata": {},
   "outputs": [
    {
     "data": {
      "text/html": [
       "<div>\n",
       "<style scoped>\n",
       "    .dataframe tbody tr th:only-of-type {\n",
       "        vertical-align: middle;\n",
       "    }\n",
       "\n",
       "    .dataframe tbody tr th {\n",
       "        vertical-align: top;\n",
       "    }\n",
       "\n",
       "    .dataframe thead th {\n",
       "        text-align: right;\n",
       "    }\n",
       "</style>\n",
       "<table border=\"1\" class=\"dataframe\">\n",
       "  <thead>\n",
       "    <tr style=\"text-align: right;\">\n",
       "      <th></th>\n",
       "      <th>1</th>\n",
       "    </tr>\n",
       "    <tr>\n",
       "      <th>0</th>\n",
       "      <th></th>\n",
       "    </tr>\n",
       "  </thead>\n",
       "  <tbody>\n",
       "    <tr>\n",
       "      <th>Alex</th>\n",
       "      <td>12</td>\n",
       "    </tr>\n",
       "    <tr>\n",
       "      <th>Scott</th>\n",
       "      <td>14</td>\n",
       "    </tr>\n",
       "    <tr>\n",
       "      <th>David</th>\n",
       "      <td>15</td>\n",
       "    </tr>\n",
       "    <tr>\n",
       "      <th>Leila</th>\n",
       "      <td>15</td>\n",
       "    </tr>\n",
       "    <tr>\n",
       "      <th>Diego</th>\n",
       "      <td>16</td>\n",
       "    </tr>\n",
       "    <tr>\n",
       "      <th>Annabelle</th>\n",
       "      <td>16</td>\n",
       "    </tr>\n",
       "    <tr>\n",
       "      <th>Jake</th>\n",
       "      <td>17</td>\n",
       "    </tr>\n",
       "    <tr>\n",
       "      <th>Yukie</th>\n",
       "      <td>17</td>\n",
       "    </tr>\n",
       "    <tr>\n",
       "      <th>Charles</th>\n",
       "      <td>18</td>\n",
       "    </tr>\n",
       "  </tbody>\n",
       "</table>\n",
       "</div>"
      ],
      "text/plain": [
       "            1\n",
       "0            \n",
       "Alex       12\n",
       "Scott      14\n",
       "David      15\n",
       "Leila      15\n",
       "Diego      16\n",
       "Annabelle  16\n",
       "Jake       17\n",
       "Yukie      17\n",
       "Charles    18"
      ]
     },
     "execution_count": 144,
     "metadata": {},
     "output_type": "execute_result"
    }
   ],
   "source": [
    "def get_counts(data:pd.DataFrame):\n",
    "    li = df.applymap(lambda x: x[:-1] if x.endswith('*') else x).to_numpy().flatten()\n",
    "    li = filter(lambda x: x != '', li)\n",
    "    c = Counter(li)\n",
    "    return dict(sorted(c.items(), key=lambda item: item[1]))\n",
    "c = get_counts(df)\n",
    "pd.DataFrame(data=c.items()).set_index(0)"
   ]
  },
  {
   "cell_type": "markdown",
   "metadata": {},
   "source": [
    "## Number of times everyone called in remotely"
   ]
  },
  {
   "cell_type": "code",
   "execution_count": 53,
   "metadata": {},
   "outputs": [
    {
     "data": {
      "text/plain": [
       "{'David': 1,\n",
       " 'Yukie': 2,\n",
       " 'Jake': 2,\n",
       " 'Leila': 3,\n",
       " 'Charles': 4,\n",
       " 'Scott': 4,\n",
       " 'Annabelle': 6,\n",
       " 'Diego': 14}"
      ]
     },
     "execution_count": 53,
     "metadata": {},
     "output_type": "execute_result"
    }
   ],
   "source": [
    "def get_wfh_counts(data:pd.DataFrame):\n",
    "    df = data.copy()\n",
    "    li = filter(lambda x: '*' in x,df.to_numpy().flatten())\n",
    "    li = map(lambda x: x[:-1], li)\n",
    "    c = Counter(li)\n",
    "    return dict(sorted(c.items(), key=lambda item: item[1]))\n",
    "get_wfh_counts(df)"
   ]
  },
  {
   "cell_type": "code",
   "execution_count": 114,
   "metadata": {},
   "outputs": [
    {
     "data": {
      "text/plain": [
       "(['Diego', 'Leila'], 4)"
      ]
     },
     "execution_count": 114,
     "metadata": {},
     "output_type": "execute_result"
    }
   ],
   "source": [
    "def get_previous_name_counts(data:pd.DataFrame, name:str):\n",
    "    c = Counter()\n",
    "    for li in data.to_numpy():\n",
    "        indicies = filter(lambda x: li[x + 1] == name, range(len(li)-1))\n",
    "        names = [li[i] for i in indicies]\n",
    "        c.update(Counter(names))\n",
    "    f = {k:v for k,v in c.items() if v == c.most_common()[0][1]}\n",
    "    return list(f.keys()), c.most_common()[0][1]\n",
    "get_previous_name_counts(clean_df, 'Yukie')"
   ]
  },
  {
   "cell_type": "markdown",
   "metadata": {},
   "source": [
    "# And now the best part: everyone's favorite people!\n",
    "## This section says who picked you the most!"
   ]
  },
  {
   "cell_type": "code",
   "execution_count": 126,
   "metadata": {},
   "outputs": [
    {
     "name": "stdout",
     "output_type": "stream",
     "text": [
      "Alex was picked by Diego 1 time!\n",
      "Annabelle was picked by Charles 5 times!\n",
      "Charles was picked by Jake and Yukie 4 times!\n",
      "David was picked by Yukie 4 times!\n",
      "Diego was picked by Scott and Annabelle and Leila 4 times!\n",
      "Jake was picked by Alex 4 times!\n",
      "Leila was picked by David 8 times!\n",
      "Scott was picked by Charles 4 times!\n",
      "Yukie was picked by Diego and Leila 4 times!\n"
     ]
    }
   ],
   "source": [
    "favorite_persons = {k:get_previous_name_counts(clean_df, k) for k in names}\n",
    "favorite_persons = dict(sorted(favorite_persons.items(), key=lambda item: item[0], reverse=False))\n",
    "for k,v in favorite_persons.items():\n",
    "    suffix = 's!' if v[1] > 1 else '!'\n",
    "    print(f'{k} was picked by {\" and \".join(v[0])} {v[1]} time' + suffix)"
   ]
  },
  {
   "cell_type": "code",
   "execution_count": 147,
   "metadata": {},
   "outputs": [],
   "source": [
    "def get_average_num(df:pd.DataFrame):\n",
    "    li = []\n",
    "    for row in df.to_numpy():\n",
    "        n = len(list(filter(lambda x: len(x) > 0, row)))\n",
    "        li.append(n)\n",
    "    return round(np.array(li).mean(),2)"
   ]
  },
  {
   "cell_type": "code",
   "execution_count": 148,
   "metadata": {},
   "outputs": [
    {
     "data": {
      "text/plain": [
       "7.78"
      ]
     },
     "execution_count": 148,
     "metadata": {},
     "output_type": "execute_result"
    }
   ],
   "source": [
    "get_average_num(df)"
   ]
  },
  {
   "cell_type": "code",
   "execution_count": null,
   "metadata": {},
   "outputs": [],
   "source": []
  }
 ],
 "metadata": {
  "kernelspec": {
   "display_name": "Python 3.9.13 ('base')",
   "language": "python",
   "name": "python3"
  },
  "language_info": {
   "codemirror_mode": {
    "name": "ipython",
    "version": 3
   },
   "file_extension": ".py",
   "mimetype": "text/x-python",
   "name": "python",
   "nbconvert_exporter": "python",
   "pygments_lexer": "ipython3",
   "version": "3.9.13"
  },
  "orig_nbformat": 4,
  "vscode": {
   "interpreter": {
    "hash": "470bc541c29bf704b26f2444cd6054f230d107be7f8104083c11d16d12214f11"
   }
  }
 },
 "nbformat": 4,
 "nbformat_minor": 2
}
