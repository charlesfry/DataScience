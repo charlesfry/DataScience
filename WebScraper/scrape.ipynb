{
 "cells": [
  {
   "cell_type": "code",
   "execution_count": 2,
   "metadata": {},
   "outputs": [],
   "source": [
    "import requests\n",
    "from bs4 import BeautifulSoup\n",
    "import csv\n",
    "import pandas as pd"
   ]
  },
  {
   "cell_type": "code",
   "execution_count": 1,
   "metadata": {},
   "outputs": [],
   "source": [
    "import scrapy\n",
    "from scrapy.spiders import CrawlSpider, Rule\n",
    "from scrapy.linkextractors import LinkExtractor"
   ]
  },
  {
   "cell_type": "code",
   "execution_count": 3,
   "metadata": {},
   "outputs": [],
   "source": [
    "FILE_PATH = 'E:\\\\Scraper\\\\'\n",
    "TEST_SITE = 'http://www.shitonmyballs.com'"
   ]
  },
  {
   "cell_type": "code",
   "execution_count": 7,
   "metadata": {},
   "outputs": [],
   "source": [
    "def get(url:str):\n",
    "    reqs = requests.get(url)\n",
    "    soup = BeautifulSoup(reqs.text, 'html.parser')\n",
    "    \n",
    "    urls = []\n",
    "    for link in soup.find_all('a'):\n",
    "        urls.append(link.get('href'))\n",
    "    return urls"
   ]
  },
  {
   "cell_type": "code",
   "execution_count": 9,
   "metadata": {},
   "outputs": [],
   "source": [
    "# urls = get(TEST_SITE)\n"
   ]
  },
  {
   "cell_type": "code",
   "execution_count": 8,
   "metadata": {},
   "outputs": [],
   "source": [
    "class TheFriendlyNeighbourhoodSpider(CrawlSpider):\n",
    "    name = 'TheFriendlyNeighbourhoodSpider'\n",
    "\n",
    "    allowed_domains = ['en.wikipedia.org', 'upload.wikimedia.org']\n",
    "    start_urls = ['https://en.wikipedia.org/wiki/Lists_of_animals']\n",
    "\n",
    "    custom_settings = {\n",
    "        'CONCURRENT_REQUESTS': 10,\n",
    "        'CONCURRENT_REQUESTS_PER_DOMAIN': 25,\n",
    "        'ROBOTSTXT_OBEY': False,\n",
    "        'CONCURRENT_ITEMS': 100,\n",
    "        'REACTOR_THREADPOOL_MAXSIZE': 400,\n",
    "        # Hides printing item dicts\n",
    "        'LOG_LEVEL': 'INFO',\n",
    "        'RETRY_ENABLED': False,\n",
    "        'REDIRECT_MAX_TIMES': 5,\n",
    "        # Stops loading page after 5mb\n",
    "        'DOWNLOAD_MAXSIZE': 5592405,\n",
    "        # Grabs xpath before site finish loading\n",
    "        'DOWNLOAD_FAIL_ON_DATALOSS': False,\n",
    "\n",
    "        'DEPTH_PRIORITY': 1,\n",
    "        'SCHEDULER_DISK_QUEUE' : 'scrapy.squeues.PickleFifoDiskQueue',\n",
    "        'SCHEDULER_MEMORY_QUEUE' :'scrapy.squeues.FifoMemoryQueue'\n",
    "    }\n",
    "\n",
    "    rules = (\n",
    "        Rule(LinkExtractor(), callback='parse_item', follow=True),\n",
    "    )\n",
    "\n",
    "\n",
    "    def parse_item(self, response):\n",
    "        print('Downloaded... ', response.url)\n",
    "        filename = 'storage/' + response.url.split(\"/\")[-1] + '.html'\n",
    "        print('Saving as :', filename)\n",
    "        with open(filename, 'wb+') as f:\n",
    "            f.write(response.body)"
   ]
  },
  {
   "cell_type": "code",
   "execution_count": null,
   "metadata": {},
   "outputs": [],
   "source": []
  }
 ],
 "metadata": {
  "kernelspec": {
   "display_name": "Python 3.9.12 ('base')",
   "language": "python",
   "name": "python3"
  },
  "language_info": {
   "codemirror_mode": {
    "name": "ipython",
    "version": 3
   },
   "file_extension": ".py",
   "mimetype": "text/x-python",
   "name": "python",
   "nbconvert_exporter": "python",
   "pygments_lexer": "ipython3",
   "version": "3.9.12"
  },
  "orig_nbformat": 4,
  "vscode": {
   "interpreter": {
    "hash": "19d1d53a962d236aa061289c2ac16dc8e6d9648c89fe79f459ae9a3493bc67b4"
   }
  }
 },
 "nbformat": 4,
 "nbformat_minor": 2
}
